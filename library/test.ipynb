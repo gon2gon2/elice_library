{
 "cells": [
  {
   "cell_type": "code",
   "execution_count": null,
   "source": [
    "import csv\n",
    "from datetime import date, datetime\n",
    "\n",
    "from library import db\n",
    "from . import models\n",
    "\n",
    "session = db.session\n",
    "\n",
    "with open('library.csv', 'r') as f:\n",
    "    reader = csv.DictReader(f)\n",
    "\n",
    "    for row in reader:\n",
    "        published_at = datetime.strptime(\n",
    "\t\t\t\t\t\trow['publication_date'], '%Y-%m-%d').date()\n",
    "        image_path = f\"/static/image/{row['id']}\"\n",
    "        try:\n",
    "            open(f'app/{image_path}.png')\n",
    "            image_path += '.png'\n",
    "        except:\n",
    "            image_path += '.jpg'\n",
    "\n",
    "        book = Book(\n",
    "            id=int(row['id']), \n",
    "\t\t\t\t\t\tname=row['book_name'], \n",
    "\t\t\t\t\t\tpublisher=row['publisher'],\n",
    "            author=row['author'], \n",
    "\t\t\t\t\t\tpublished_at=published_at, \n",
    "\t\t\t\t\t\tpage_count=int(row['pages']),\n",
    "            isbn=row['isbn'], \n",
    "\t\t\t\t\t\tdescription=row['description'], \n",
    "\t\t\t\t\t\timage_path=image_path,\n",
    "            stock=5,\n",
    "\t\t\t\t\t\trating=0,\n",
    "        )\n",
    "        db.session.add(book)\n",
    "\n",
    "    db.session.commit()"
   ],
   "outputs": [],
   "metadata": {}
  }
 ],
 "metadata": {
  "orig_nbformat": 4,
  "language_info": {
   "name": "python"
  }
 },
 "nbformat": 4,
 "nbformat_minor": 2
}